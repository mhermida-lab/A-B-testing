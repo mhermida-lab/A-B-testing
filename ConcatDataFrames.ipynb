{
 "cells": [
  {
   "cell_type": "code",
   "execution_count": 2,
   "metadata": {},
   "outputs": [],
   "source": [
    "import pandas as pd"
   ]
  },
  {
   "cell_type": "code",
   "execution_count": 5,
   "metadata": {},
   "outputs": [],
   "source": [
    "df00 = pd.read_csv('./00')\n",
    "df01 = pd.read_csv('./01')\n",
    "df02 = pd.read_csv('./02')\n",
    "df03= pd.read_csv('./03')\n",
    "df04= pd.read_csv('./04')\n",
    "df05= pd.read_csv('./05')\n",
    "df06= pd.read_csv('./06')\n",
    "df07= pd.read_csv('./07')\n",
    "df08= pd.read_csv('./08')\n",
    "df09= pd.read_csv('./09')\n",
    "df10= pd.read_csv('./10')"
   ]
  },
  {
   "cell_type": "code",
   "execution_count": 6,
   "metadata": {},
   "outputs": [],
   "source": [
    "dataFrames = [df00, df01, df02, df03, df04, df05, df06, df07, df08, df09, df10]"
   ]
  },
  {
   "cell_type": "code",
   "execution_count": 7,
   "metadata": {},
   "outputs": [],
   "source": [
    "firstHalf = pd.concat(dataFrames)"
   ]
  },
  {
   "cell_type": "code",
   "execution_count": 9,
   "metadata": {},
   "outputs": [],
   "source": [
    "firstHalf.to_csv('./firstHalf')"
   ]
  },
  {
   "cell_type": "code",
   "execution_count": 10,
   "metadata": {},
   "outputs": [],
   "source": [
    "df11 = pd.read_csv('./11')\n",
    "df12 = pd.read_csv('./12')\n",
    "df13 = pd.read_csv('./13')\n",
    "df14= pd.read_csv('./14')\n",
    "df15= pd.read_csv('./15')\n",
    "df16= pd.read_csv('./16')\n",
    "df17= pd.read_csv('./17')\n",
    "df18= pd.read_csv('./18')\n",
    "df19= pd.read_csv('./19')\n",
    "df20= pd.read_csv('./20')\n",
    "df21= pd.read_csv('./21')"
   ]
  },
  {
   "cell_type": "code",
   "execution_count": 11,
   "metadata": {},
   "outputs": [],
   "source": [
    "dataFrames2 = [df11, df12, df13, df14, df15, df16, df17, df18, df19, df20, df21]"
   ]
  },
  {
   "cell_type": "code",
   "execution_count": 12,
   "metadata": {},
   "outputs": [],
   "source": [
    "secondHalf = pd.concat(dataFrames2)"
   ]
  },
  {
   "cell_type": "code",
   "execution_count": 14,
   "metadata": {},
   "outputs": [],
   "source": [
    "secondHalf.to_csv('./secondHalf.csv')"
   ]
  },
  {
   "cell_type": "code",
   "execution_count": 18,
   "metadata": {},
   "outputs": [],
   "source": [
    "adf00 = pd.read_csv('./assignment00')\n",
    "adf01 = pd.read_csv('./assignment01')"
   ]
  },
  {
   "cell_type": "code",
   "execution_count": 19,
   "metadata": {},
   "outputs": [],
   "source": [
    "dataFrames3 = [adf00, adf01]"
   ]
  },
  {
   "cell_type": "code",
   "execution_count": 20,
   "metadata": {},
   "outputs": [],
   "source": [
    "assignment = pd.concat(dataFrames3)"
   ]
  },
  {
   "cell_type": "code",
   "execution_count": 21,
   "metadata": {},
   "outputs": [],
   "source": [
    "assignment.to_csv('./assignments.csv')"
   ]
  },
  {
   "cell_type": "code",
   "execution_count": 22,
   "metadata": {},
   "outputs": [
    {
     "data": {
      "text/html": [
       "<div>\n",
       "<style scoped>\n",
       "    .dataframe tbody tr th:only-of-type {\n",
       "        vertical-align: middle;\n",
       "    }\n",
       "\n",
       "    .dataframe tbody tr th {\n",
       "        vertical-align: top;\n",
       "    }\n",
       "\n",
       "    .dataframe thead th {\n",
       "        text-align: right;\n",
       "    }\n",
       "</style>\n",
       "<table border=\"1\" class=\"dataframe\">\n",
       "  <thead>\n",
       "    <tr style=\"text-align: right;\">\n",
       "      <th></th>\n",
       "      <th>playerid</th>\n",
       "      <th>abtest_group</th>\n",
       "      <th>assignment_date</th>\n",
       "      <th>install_date</th>\n",
       "      <th>conversion_date</th>\n",
       "    </tr>\n",
       "  </thead>\n",
       "  <tbody>\n",
       "    <tr>\n",
       "      <td>0</td>\n",
       "      <td>353000</td>\n",
       "      <td>A</td>\n",
       "      <td>2017-05-04</td>\n",
       "      <td>2016-01-04</td>\n",
       "      <td>2016-01-04</td>\n",
       "    </tr>\n",
       "    <tr>\n",
       "      <td>1</td>\n",
       "      <td>573402</td>\n",
       "      <td>A</td>\n",
       "      <td>2017-05-04</td>\n",
       "      <td>2016-01-06</td>\n",
       "      <td>2016-01-22</td>\n",
       "    </tr>\n",
       "    <tr>\n",
       "      <td>2</td>\n",
       "      <td>3867739</td>\n",
       "      <td>A</td>\n",
       "      <td>2017-05-04</td>\n",
       "      <td>2016-02-08</td>\n",
       "      <td>NaN</td>\n",
       "    </tr>\n",
       "    <tr>\n",
       "      <td>3</td>\n",
       "      <td>3918487</td>\n",
       "      <td>A</td>\n",
       "      <td>2017-05-04</td>\n",
       "      <td>2016-02-08</td>\n",
       "      <td>NaN</td>\n",
       "    </tr>\n",
       "    <tr>\n",
       "      <td>4</td>\n",
       "      <td>5054143</td>\n",
       "      <td>A</td>\n",
       "      <td>2017-05-04</td>\n",
       "      <td>2016-02-19</td>\n",
       "      <td>NaN</td>\n",
       "    </tr>\n",
       "    <tr>\n",
       "      <td>...</td>\n",
       "      <td>...</td>\n",
       "      <td>...</td>\n",
       "      <td>...</td>\n",
       "      <td>...</td>\n",
       "      <td>...</td>\n",
       "    </tr>\n",
       "    <tr>\n",
       "      <td>5164399</td>\n",
       "      <td>51071065</td>\n",
       "      <td>B</td>\n",
       "      <td>2017-05-22</td>\n",
       "      <td>2017-05-22</td>\n",
       "      <td>NaN</td>\n",
       "    </tr>\n",
       "    <tr>\n",
       "      <td>5164400</td>\n",
       "      <td>51114545</td>\n",
       "      <td>B</td>\n",
       "      <td>2017-05-22</td>\n",
       "      <td>2017-05-22</td>\n",
       "      <td>NaN</td>\n",
       "    </tr>\n",
       "    <tr>\n",
       "      <td>5164401</td>\n",
       "      <td>51064851</td>\n",
       "      <td>B</td>\n",
       "      <td>2017-05-22</td>\n",
       "      <td>2017-05-22</td>\n",
       "      <td>NaN</td>\n",
       "    </tr>\n",
       "    <tr>\n",
       "      <td>5164402</td>\n",
       "      <td>51045657</td>\n",
       "      <td>B</td>\n",
       "      <td>2017-05-22</td>\n",
       "      <td>2017-05-22</td>\n",
       "      <td>NaN</td>\n",
       "    </tr>\n",
       "    <tr>\n",
       "      <td>5164403</td>\n",
       "      <td>51098005</td>\n",
       "      <td>B</td>\n",
       "      <td>2017-05-22</td>\n",
       "      <td>2017-05-22</td>\n",
       "      <td>NaN</td>\n",
       "    </tr>\n",
       "  </tbody>\n",
       "</table>\n",
       "<p>10331056 rows × 5 columns</p>\n",
       "</div>"
      ],
      "text/plain": [
       "         playerid abtest_group assignment_date install_date conversion_date\n",
       "0          353000            A      2017-05-04   2016-01-04      2016-01-04\n",
       "1          573402            A      2017-05-04   2016-01-06      2016-01-22\n",
       "2         3867739            A      2017-05-04   2016-02-08             NaN\n",
       "3         3918487            A      2017-05-04   2016-02-08             NaN\n",
       "4         5054143            A      2017-05-04   2016-02-19             NaN\n",
       "...           ...          ...             ...          ...             ...\n",
       "5164399  51071065            B      2017-05-22   2017-05-22             NaN\n",
       "5164400  51114545            B      2017-05-22   2017-05-22             NaN\n",
       "5164401  51064851            B      2017-05-22   2017-05-22             NaN\n",
       "5164402  51045657            B      2017-05-22   2017-05-22             NaN\n",
       "5164403  51098005            B      2017-05-22   2017-05-22             NaN\n",
       "\n",
       "[10331056 rows x 5 columns]"
      ]
     },
     "execution_count": 22,
     "metadata": {},
     "output_type": "execute_result"
    }
   ],
   "source": [
    "assignment"
   ]
  },
  {
   "cell_type": "code",
   "execution_count": 3,
   "metadata": {},
   "outputs": [],
   "source": [
    "firstHalf= pd.read_csv('./firstHalf.csv')\n",
    "secondHalf= pd.read_csv('./secondHalf.csv')"
   ]
  },
  {
   "cell_type": "code",
   "execution_count": 4,
   "metadata": {},
   "outputs": [],
   "source": [
    "firstHalf.drop(columns=['Unnamed: 0'], index=1, inplace=True)\n",
    "secondHalf.drop(columns=['Unnamed: 0'], index=1, inplace=True)"
   ]
  },
  {
   "cell_type": "code",
   "execution_count": 5,
   "metadata": {},
   "outputs": [],
   "source": [
    "halfs = [firstHalf, secondHalf]\n",
    "activity = pd.concat(halfs)\n",
    "activity.to_csv('./activity.csv', index=False)\n"
   ]
  },
  {
   "cell_type": "code",
   "execution_count": 6,
   "metadata": {},
   "outputs": [
    {
     "name": "stdout",
     "output_type": "stream",
     "text": [
      "<class 'pandas.core.frame.DataFrame'>\n",
      "Int64Index: 214878699 entries, 0 to 107432104\n",
      "Data columns (total 4 columns):\n",
      "playerid         int64\n",
      "activity_date    object\n",
      "purchases        int64\n",
      "gameends         int64\n",
      "dtypes: int64(3), object(1)\n",
      "memory usage: 8.0+ GB\n"
     ]
    }
   ],
   "source": [
    "activity.info()"
   ]
  },
  {
   "cell_type": "code",
   "execution_count": 10,
   "metadata": {},
   "outputs": [
    {
     "data": {
      "text/html": [
       "<div>\n",
       "<style scoped>\n",
       "    .dataframe tbody tr th:only-of-type {\n",
       "        vertical-align: middle;\n",
       "    }\n",
       "\n",
       "    .dataframe tbody tr th {\n",
       "        vertical-align: top;\n",
       "    }\n",
       "\n",
       "    .dataframe thead th {\n",
       "        text-align: right;\n",
       "    }\n",
       "</style>\n",
       "<table border=\"1\" class=\"dataframe\">\n",
       "  <thead>\n",
       "    <tr style=\"text-align: right;\">\n",
       "      <th></th>\n",
       "      <th>playerid</th>\n",
       "      <th>activity_date</th>\n",
       "      <th>purchases</th>\n",
       "      <th>gameends</th>\n",
       "    </tr>\n",
       "  </thead>\n",
       "  <tbody>\n",
       "    <tr>\n",
       "      <td>97756171</td>\n",
       "      <td>16</td>\n",
       "      <td>2017-05-09</td>\n",
       "      <td>0</td>\n",
       "      <td>10</td>\n",
       "    </tr>\n",
       "    <tr>\n",
       "      <td>79547737</td>\n",
       "      <td>16</td>\n",
       "      <td>2017-05-06</td>\n",
       "      <td>0</td>\n",
       "      <td>7</td>\n",
       "    </tr>\n",
       "    <tr>\n",
       "      <td>11319662</td>\n",
       "      <td>16</td>\n",
       "      <td>2017-05-08</td>\n",
       "      <td>0</td>\n",
       "      <td>11</td>\n",
       "    </tr>\n",
       "    <tr>\n",
       "      <td>93542073</td>\n",
       "      <td>16</td>\n",
       "      <td>2017-05-13</td>\n",
       "      <td>0</td>\n",
       "      <td>7</td>\n",
       "    </tr>\n",
       "    <tr>\n",
       "      <td>80903387</td>\n",
       "      <td>16</td>\n",
       "      <td>2017-05-04</td>\n",
       "      <td>0</td>\n",
       "      <td>9</td>\n",
       "    </tr>\n",
       "    <tr>\n",
       "      <td>...</td>\n",
       "      <td>...</td>\n",
       "      <td>...</td>\n",
       "      <td>...</td>\n",
       "      <td>...</td>\n",
       "    </tr>\n",
       "    <tr>\n",
       "      <td>88875912</td>\n",
       "      <td>51145419</td>\n",
       "      <td>2017-05-22</td>\n",
       "      <td>0</td>\n",
       "      <td>11</td>\n",
       "    </tr>\n",
       "    <tr>\n",
       "      <td>21200832</td>\n",
       "      <td>51145420</td>\n",
       "      <td>2017-05-22</td>\n",
       "      <td>0</td>\n",
       "      <td>9</td>\n",
       "    </tr>\n",
       "    <tr>\n",
       "      <td>20332493</td>\n",
       "      <td>51145421</td>\n",
       "      <td>2017-05-22</td>\n",
       "      <td>0</td>\n",
       "      <td>31</td>\n",
       "    </tr>\n",
       "    <tr>\n",
       "      <td>68711193</td>\n",
       "      <td>51145422</td>\n",
       "      <td>2017-05-22</td>\n",
       "      <td>0</td>\n",
       "      <td>6</td>\n",
       "    </tr>\n",
       "    <tr>\n",
       "      <td>40848762</td>\n",
       "      <td>51145423</td>\n",
       "      <td>2017-05-22</td>\n",
       "      <td>0</td>\n",
       "      <td>28</td>\n",
       "    </tr>\n",
       "  </tbody>\n",
       "</table>\n",
       "<p>214878699 rows × 4 columns</p>\n",
       "</div>"
      ],
      "text/plain": [
       "          playerid activity_date  purchases  gameends\n",
       "97756171        16    2017-05-09          0        10\n",
       "79547737        16    2017-05-06          0         7\n",
       "11319662        16    2017-05-08          0        11\n",
       "93542073        16    2017-05-13          0         7\n",
       "80903387        16    2017-05-04          0         9\n",
       "...            ...           ...        ...       ...\n",
       "88875912  51145419    2017-05-22          0        11\n",
       "21200832  51145420    2017-05-22          0         9\n",
       "20332493  51145421    2017-05-22          0        31\n",
       "68711193  51145422    2017-05-22          0         6\n",
       "40848762  51145423    2017-05-22          0        28\n",
       "\n",
       "[214878699 rows x 4 columns]"
      ]
     },
     "execution_count": 10,
     "metadata": {},
     "output_type": "execute_result"
    }
   ],
   "source": [
    "activity.sort_values(by='playerid')"
   ]
  },
  {
   "cell_type": "code",
   "execution_count": null,
   "metadata": {},
   "outputs": [],
   "source": []
  }
 ],
 "metadata": {
  "kernelspec": {
   "display_name": "Python 3",
   "language": "python",
   "name": "python3"
  },
  "language_info": {
   "codemirror_mode": {
    "name": "ipython",
    "version": 3
   },
   "file_extension": ".py",
   "mimetype": "text/x-python",
   "name": "python",
   "nbconvert_exporter": "python",
   "pygments_lexer": "ipython3",
   "version": "3.7.4"
  }
 },
 "nbformat": 4,
 "nbformat_minor": 2
}
